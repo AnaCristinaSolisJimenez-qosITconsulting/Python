{
 "cells": [
  {
   "cell_type": "markdown",
   "metadata": {},
   "source": [
    "# Ejercicios de Programación Orientada a Objetos\n",
    "\n",
    "## Ejercicio 1: Creación de una Clase Básica\n",
    "Crea una clase llamada `Libro` que tenga los siguientes atributos:\n",
    "- título\n",
    "- autor\n",
    "- año_publicacion\n",
    "- disponible (booleano)\n",
    "\n",
    "Implementa los métodos:\n",
    "- `prestar()`: cambia disponible a False\n",
    "- `devolver()`: cambia disponible a True\n",
    "- `info()`: muestra toda la información del libro"
   ]
  },
  {
   "cell_type": "code",
   "execution_count": null,
   "metadata": {},
   "outputs": [],
   "source": [
    "# Tu código aquí"
   ]
  },
  {
   "cell_type": "markdown",
   "metadata": {},
   "source": [
    "## Ejercicio 2: Herencia\n",
    "Crea una clase `Vehiculo` con atributos básicos como `marca`, `modelo` y `año`.\n",
    "Luego crea dos clases que hereden de `Vehiculo`:\n",
    "- `Coche` (con atributo adicional `num_puertas`)\n",
    "- `Moto` (con atributo adicional `cilindrada`)\n",
    "\n",
    "Cada clase debe tener un método `mostrar_info()` que muestre sus atributos."
   ]
  },
  {
   "cell_type": "code",
   "execution_count": 1,
   "metadata": {},
   "outputs": [
    {
     "name": "stdout",
     "output_type": "stream",
     "text": [
      "Info del coche:\n",
      "Marca: Citroen\n",
      "Modelo: C4\n",
      "Año: 2010\n",
      "El número de puertas del vehículo es: 3\n",
      "\n",
      "Info de la moto::\n",
      "Marca: Kawasaki\n",
      "Modelo: Ninja 400\n",
      "Año: 2024\n",
      "Cilindrada: 400 cc\n"
     ]
    }
   ],
   "source": [
    "# Definimos la clase Vehículo\n",
    "class Vehiculo:\n",
    "    def __init__(self, marca, modelo, year):\n",
    "        self.marca = marca\n",
    "        self.modelo = modelo\n",
    "        self.year = year\n",
    "    \n",
    "    def mostrar_info(self):\n",
    "        return f\"Marca: {self.marca}\\nModelo: {self.modelo}\\nAño: {self.year}\"\n",
    "# Definimos la clase coche que hereda de Vehículo\n",
    "class Coche(Vehiculo):\n",
    "    def __init__(self, marca, modelo, year, num_puertas):\n",
    "        super().__init__(marca, modelo, year)\n",
    "        self.num_puertas = num_puertas\n",
    "    \n",
    "    def mostrar_info(self):\n",
    "        return super().mostrar_info() + f\"\\nEl número de puertas del vehículo es: {self.num_puertas}\"\n",
    "# Lo mismo con la clase Moto\n",
    "class Moto(Vehiculo):\n",
    "    def __init__(self, marca, modelo, year, cilindrada):\n",
    "        super().__init__(marca, modelo, year)\n",
    "        self.cilindrada = cilindrada\n",
    "    \n",
    "    def mostrar_info(self):\n",
    "        return super().mostrar_info() + f\"\\nCilindrada: {self.cilindrada} cc\"\n",
    "# Muestra de la información del coche y la moto\n",
    "coche1 = Coche(\"Citroen\", \"C4\", 2010, 3)\n",
    "moto1 = Moto(\"Kawasaki\", \"Ninja 400\", 2024, 400)\n",
    "\n",
    "print(\"Info del coche:\")\n",
    "print(coche1.mostrar_info())\n",
    "print()\n",
    "print(\"Info de la moto::\")\n",
    "print(moto1.mostrar_info())"
   ]
  },
  {
   "cell_type": "markdown",
   "metadata": {},
   "source": [
    "## Ejercicio 3: Encapsulamiento\n",
    "Crea una clase `CuentaBancaria` con:\n",
    "- Atributos privados: `__saldo` y `__num_cuenta`\n",
    "- Métodos:\n",
    "  - `depositar(cantidad)`\n",
    "  - `retirar(cantidad)`\n",
    "  - `consultar_saldo()`\n",
    "\n",
    "Asegúrate de que no se pueda retirar más dinero del disponible."
   ]
  },
  {
   "cell_type": "code",
   "execution_count": null,
   "metadata": {},
   "outputs": [],
   "source": [
    "# Tu código aquí"
   ]
  },
  {
   "cell_type": "markdown",
   "metadata": {},
   "source": [
    "## Ejercicio 4: Polimorfismo\n",
    "Crea una clase `FiguraGeometrica` con un método `calcular_area()`.\n",
    "Luego crea las clases:\n",
    "- `Rectangulo`\n",
    "- `Circulo`\n",
    "- `Triangulo`\n",
    "\n",
    "Cada una debe implementar su propio método `calcular_area()`."
   ]
  },
  {
   "cell_type": "code",
   "execution_count": 5,
   "metadata": {},
   "outputs": [
    {
     "name": "stdout",
     "output_type": "stream",
     "text": [
      "21\n",
      "78.53981633974483\n",
      "22.5\n"
     ]
    }
   ],
   "source": [
    "import math\n",
    "\n",
    "class FiguraGeometrica():\n",
    "    def calcular_area(self):\n",
    "        pass\n",
    "\n",
    "class Rectangulo(FiguraGeometrica):\n",
    "    def __init__(self, base, altura):\n",
    "        #la llamada al init de la superclase es autogenerada por VSCode\n",
    "        super().__init__()\n",
    "        self.base=base\n",
    "        self.altura=altura\n",
    "    \n",
    "    def calcular_area(self):\n",
    "        return self.base*self.altura\n",
    "    \n",
    "class Circulo(FiguraGeometrica):\n",
    "    def __init__(self,radio):\n",
    "        super().__init__()\n",
    "        self.radio=radio\n",
    "    def calcular_area(self):\n",
    "        return math.pi*(self.radio**2)\n",
    "    \n",
    "class Triangulo(FiguraGeometrica):\n",
    "    def __init__(self, base, altura):\n",
    "        super().__init__()\n",
    "        self.base=base\n",
    "        self.altura=altura\n",
    "\n",
    "    def calcular_area(self):\n",
    "        return (self.base*self.altura)/2\n",
    "    \n",
    "\n",
    "r=Rectangulo(7,3)\n",
    "print(r.calcular_area())\n",
    "c=Circulo(5)\n",
    "print(c.calcular_area())\n",
    "t=Triangulo(5,9)\n",
    "print(t.calcular_area())"
   ]
  },
  {
   "cell_type": "markdown",
   "metadata": {},
   "source": [
    "## Ejercicio 5: Proyecto Final\n",
    "Crea un sistema simple de gestión de una biblioteca usando POO.\n",
    "Debe incluir:\n",
    "- Clase `Biblioteca`\n",
    "- Clase `Libro`\n",
    "- Clase `Usuario`\n",
    "\n",
    "Implementa métodos para:\n",
    "- Agregar/eliminar libros\n",
    "- Registrar usuarios\n",
    "- Prestar/devolver libros\n",
    "- Mostrar inventario\n",
    "- Mostrar libros prestados"
   ]
  },
  {
   "cell_type": "code",
   "execution_count": null,
   "metadata": {},
   "outputs": [],
   "source": [
    "# Tu código aquí"
   ]
  }
 ],
 "metadata": {
  "kernelspec": {
   "display_name": "Python 3",
   "language": "python",
   "name": "python3"
  },
  "language_info": {
   "codemirror_mode": {
    "name": "ipython",
    "version": 3
   },
   "file_extension": ".py",
   "mimetype": "text/x-python",
   "name": "python",
   "nbconvert_exporter": "python",
   "pygments_lexer": "ipython3",
   "version": "3.13.1"
  }
 },
 "nbformat": 4,
 "nbformat_minor": 2
}
