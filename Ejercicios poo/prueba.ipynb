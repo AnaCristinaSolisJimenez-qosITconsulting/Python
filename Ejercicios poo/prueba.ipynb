{
 "cells": [
  {
   "cell_type": "code",
   "execution_count": null,
   "metadata": {},
   "outputs": [
    {
     "name": "stdout",
     "output_type": "stream",
     "text": [
      "El área del círculo es: 78.53981633974483\n",
      "El perímetro del círculo es: 31.41592653589793\n"
     ]
    }
   ],
   "source": [
    "#area de un circulo.\n",
    "import math\n",
    "\n",
    "class Circulo:\n",
    "    def __init__(self, radio):\n",
    "        self.radio=radio\n",
    "        pass\n",
    "\n",
    "    def area(self):\n",
    "        return math.pi * (self.radio ** 2)\n",
    "        pass\n",
    "\n",
    "    def perimetro(self):\n",
    "        return 2 * math.pi * self.radio\n",
    "        pass\n",
    "\n",
    "circulo=Circulo(5)\n",
    "\n",
    "print(f\"El área del círculo es: {circulo.area()}\")\n",
    "print(f\"El perímetro del círculo es: {circulo.perimetro()}\")"
   ]
  },
  {
   "cell_type": "code",
   "execution_count": null,
   "metadata": {},
   "outputs": [],
   "source": [
    "#Ejercicios poo 1\n",
    "class Libro:\n",
    "    titulo=\"El principito\"\n",
    "    autor=\"una persona\"\n",
    "    año_publicacion=\"1685\"\n",
    "    disponible=True\n",
    "def prestar(self):\n",
    "    self.disponible = False\n",
    "def devolver(self):\n",
    "    self.devolver = False\n",
    "def info(self):\n",
    "     return print(f\"Libro: {self.titulo} / Autor: {self.autor} / Año Publicacion: {self.annoPublicacion} / Disponibilidad: {self.disponible}\")\n"
   ]
  }
 ],
 "metadata": {
  "kernelspec": {
   "display_name": "Python 3",
   "language": "python",
   "name": "python3"
  },
  "language_info": {
   "codemirror_mode": {
    "name": "ipython",
    "version": 3
   },
   "file_extension": ".py",
   "mimetype": "text/x-python",
   "name": "python",
   "nbconvert_exporter": "python",
   "pygments_lexer": "ipython3",
   "version": "3.13.1"
  }
 },
 "nbformat": 4,
 "nbformat_minor": 2
}
